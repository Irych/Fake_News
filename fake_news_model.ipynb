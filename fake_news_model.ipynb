{
 "cells": [
  {
   "cell_type": "markdown",
   "id": "e725ccd7",
   "metadata": {},
   "source": [
    "# Тестовое задание\n",
    "\n",
    "Для выполнения тестового задания требуется разработать модель, которая будет способна различать заголовки реальных и выдуманных новостей.\n",
    "Для обучения модели используйте данные из файла `train.tsv`. В файле находится таблица, состоящая из двух колонок. \n",
    "В колонке title записан заголовок новости. В колонке is_fake содержатся метки: 0 – новость реальная; 1 – новость выдуманная.\n",
    "Для демонстрации работы модели используйте данные тестового набора из файла `test.tsv`. В нем также есть колонка title, данные которой являются входными для вашей модели.\n",
    "Вам нужно скопировать файл `test.tsv`, переименовать его в `predictions.tsv` и заполнить колонку is_fake значениями предсказаний вашей модели, аналогично `train.tsv`. \n",
    "Изначально колонка заполнена значением 0.\n"
   ]
  },
  {
   "cell_type": "markdown",
   "id": "dc147d6d",
   "metadata": {},
   "source": [
    "<b>Подключение необходимых библиотек</b><br>\n",
    "Все функции для предобработки текста находятся в файле `preprocessing.py`"
   ]
  },
  {
   "cell_type": "code",
   "execution_count": 1,
   "id": "c27774b0",
   "metadata": {},
   "outputs": [],
   "source": [
    "import pandas as pd\n",
    "import numpy as np\n",
    "import preprocessing\n",
    "import matplotlib.pyplot as plt\n",
    "import seaborn as sns\n",
    "from sklearn.model_selection import train_test_split\n",
    "from sklearn.feature_extraction.text import TfidfVectorizer\n",
    "from sklearn.model_selection import GridSearchCV\n",
    "from sklearn.pipeline import Pipeline\n",
    "from sklearn.linear_model import LogisticRegression\n",
    "from sklearn.model_selection import GridSearchCV\n",
    "from sklearn.metrics import mean_squared_error\n",
    "from sklearn.metrics import accuracy_score, precision_score, recall_score, f1_score, precision_recall_curve, plot_precision_recall_curve, plot_confusion_matrix\n",
    "from sklearn.metrics import roc_auc_score, roc_curve, plot_roc_curve"
   ]
  },
  {
   "cell_type": "markdown",
   "id": "50264018",
   "metadata": {},
   "source": [
    "<b>Загрузка таблицы</b>"
   ]
  },
  {
   "cell_type": "code",
   "execution_count": 2,
   "id": "d51c7e81",
   "metadata": {},
   "outputs": [],
   "source": [
    "data = pd.read_csv('dataset/train.tsv', delimiter='\\t')"
   ]
  },
  {
   "cell_type": "code",
   "execution_count": 3,
   "id": "84ad25b6",
   "metadata": {},
   "outputs": [
    {
     "data": {
      "text/html": [
       "<div>\n",
       "<style scoped>\n",
       "    .dataframe tbody tr th:only-of-type {\n",
       "        vertical-align: middle;\n",
       "    }\n",
       "\n",
       "    .dataframe tbody tr th {\n",
       "        vertical-align: top;\n",
       "    }\n",
       "\n",
       "    .dataframe thead th {\n",
       "        text-align: right;\n",
       "    }\n",
       "</style>\n",
       "<table border=\"1\" class=\"dataframe\">\n",
       "  <thead>\n",
       "    <tr style=\"text-align: right;\">\n",
       "      <th></th>\n",
       "      <th>title</th>\n",
       "      <th>is_fake</th>\n",
       "    </tr>\n",
       "  </thead>\n",
       "  <tbody>\n",
       "    <tr>\n",
       "      <th>0</th>\n",
       "      <td>Москвичу Владимиру Клутину пришёл счёт за вмеш...</td>\n",
       "      <td>1</td>\n",
       "    </tr>\n",
       "    <tr>\n",
       "      <th>1</th>\n",
       "      <td>Агент Кокорина назвал езду по встречке житейск...</td>\n",
       "      <td>0</td>\n",
       "    </tr>\n",
       "    <tr>\n",
       "      <th>2</th>\n",
       "      <td>Госдума рассмотрит возможность введения секрет...</td>\n",
       "      <td>1</td>\n",
       "    </tr>\n",
       "    <tr>\n",
       "      <th>3</th>\n",
       "      <td>ФАС заблокировала поставку скоростных трамваев...</td>\n",
       "      <td>0</td>\n",
       "    </tr>\n",
       "    <tr>\n",
       "      <th>4</th>\n",
       "      <td>Против Навального завели дело о недоносительст...</td>\n",
       "      <td>1</td>\n",
       "    </tr>\n",
       "  </tbody>\n",
       "</table>\n",
       "</div>"
      ],
      "text/plain": [
       "                                               title  is_fake\n",
       "0  Москвичу Владимиру Клутину пришёл счёт за вмеш...        1\n",
       "1  Агент Кокорина назвал езду по встречке житейск...        0\n",
       "2  Госдума рассмотрит возможность введения секрет...        1\n",
       "3  ФАС заблокировала поставку скоростных трамваев...        0\n",
       "4  Против Навального завели дело о недоносительст...        1"
      ]
     },
     "execution_count": 3,
     "metadata": {},
     "output_type": "execute_result"
    }
   ],
   "source": [
    "data.head()"
   ]
  },
  {
   "cell_type": "code",
   "execution_count": 4,
   "id": "1fc6e6bd",
   "metadata": {},
   "outputs": [
    {
     "data": {
      "text/plain": [
       "'Москвичу Владимиру Клутину пришёл счёт за вмешательство в американские выборы'"
      ]
     },
     "execution_count": 4,
     "metadata": {},
     "output_type": "execute_result"
    }
   ],
   "source": [
    "data['title'][0]"
   ]
  },
  {
   "cell_type": "markdown",
   "id": "b96ee617",
   "metadata": {},
   "source": [
    "<b>Проверка пропущенных значений</b>"
   ]
  },
  {
   "cell_type": "code",
   "execution_count": 5,
   "id": "f4a44614",
   "metadata": {},
   "outputs": [
    {
     "data": {
      "text/plain": [
       "title      0\n",
       "is_fake    0\n",
       "dtype: int64"
      ]
     },
     "execution_count": 5,
     "metadata": {},
     "output_type": "execute_result"
    }
   ],
   "source": [
    "data.isnull().sum()"
   ]
  },
  {
   "cell_type": "markdown",
   "id": "e8199c94",
   "metadata": {},
   "source": [
    "<b>В тренировочном датасете бъеков класса 0 и объектов класса 1 одинаковое количество </b>"
   ]
  },
  {
   "cell_type": "code",
   "execution_count": 6,
   "id": "bbfb4b1a",
   "metadata": {},
   "outputs": [
    {
     "name": "stdout",
     "output_type": "stream",
     "text": [
      "0    2879\n",
      "1    2879\n",
      "Name: is_fake, dtype: int64\n",
      "Всего тайтлов: 5758\n"
     ]
    },
    {
     "data": {
      "image/png": "[encoded data removed]",
      "text/plain": [
       "<Figure size 432x288 with 1 Axes>"
      ]
     },
     "metadata": {
      "needs_background": "light"
     },
     "output_type": "display_data"
    }
   ],
   "source": [
    "data['is_fake'].value_counts().plot(kind = 'bar')\n",
    "print(data['is_fake'].value_counts())\n",
    "count = data['is_fake'].count()\n",
    "print(f'Всего тайтлов: {count}')"
   ]
  },
  {
   "cell_type": "markdown",
   "id": "32665793",
   "metadata": {},
   "source": [
    "<b>Частота слов в заголовках новостей, которые отмечены как фейки</b>"
   ]
  },
  {
   "cell_type": "code",
   "execution_count": 7,
   "id": "628969af",
   "metadata": {},
   "outputs": [
    {
     "data": {
      "image/png": "[encoded data removed]",
      "text/plain": [
       "<Figure size 1440x360 with 1 Axes>"
      ]
     },
     "metadata": {
      "needs_background": "light"
     },
     "output_type": "display_data"
    }
   ],
   "source": [
    "fake = preprocessing.get_corpus(data, 1)\n",
    "preprocessing.freq_words(fake)"
   ]
  },
  {
   "cell_type": "markdown",
   "id": "fab4ab6d",
   "metadata": {},
   "source": [
    "<b>Частота слов в заголовках новостей, которые отмечены как `не` фейки</b>"
   ]
  },
  {
   "cell_type": "code",
   "execution_count": 8,
   "id": "261febb3",
   "metadata": {},
   "outputs": [
    {
     "data": {
      "image/png": "[encoded data removed]",
      "text/plain": [
       "<Figure size 1440x360 with 1 Axes>"
      ]
     },
     "metadata": {
      "needs_background": "light"
     },
     "output_type": "display_data"
    }
   ],
   "source": [
    "true = preprocessing.get_corpus(data, 0)\n",
    "preprocessing.freq_words(true)"
   ]
  },
  {
   "cell_type": "markdown",
   "id": "9b35774a",
   "metadata": {},
   "source": [
    "<b>Разбиение на тренировочную и тестовую выборки</b>"
   ]
  },
  {
   "cell_type": "code",
   "execution_count": 9,
   "id": "a780a788",
   "metadata": {},
   "outputs": [],
   "source": [
    "x_train, x_test, y_train, y_test = train_test_split(data['title'], data['is_fake'], train_size=0.8, random_state=0)"
   ]
  },
  {
   "cell_type": "markdown",
   "id": "5b8c83ac",
   "metadata": {},
   "source": [
    " Подготовка пайплайна, где первым шагом выполняется векторизация текста для того, чтобы модель могла с ним работать. Вторым шагом строится модель логистической регрессии.<br> \n",
    " Так можно будет получить вероятность принадлежности новости к положительному классу."
   ]
  },
  {
   "cell_type": "code",
   "execution_count": 10,
   "id": "84f4207b",
   "metadata": {},
   "outputs": [],
   "source": [
    "model = Pipeline([\n",
    "    ('vectorizer', TfidfVectorizer(tokenizer=lambda x: preprocessing.preprocessing_text(x))),\n",
    "    ('model', LogisticRegression())\n",
    "])"
   ]
  },
  {
   "cell_type": "markdown",
   "id": "b0e25f45",
   "metadata": {},
   "source": [
    "Обучение модели и расчет метрик"
   ]
  },
  {
   "cell_type": "code",
   "execution_count": 11,
   "id": "0ffde84e",
   "metadata": {},
   "outputs": [
    {
     "data": {
      "text/plain": [
       "Pipeline(steps=[('vectorizer',\n",
       "                 TfidfVectorizer(tokenizer=<function <lambda> at 0x00000276861E7B80>)),\n",
       "                ('model', LogisticRegression())])"
      ]
     },
     "execution_count": 11,
     "metadata": {},
     "output_type": "execute_result"
    }
   ],
   "source": [
    "model.fit(x_train, y_train)"
   ]
  },
  {
   "cell_type": "code",
   "execution_count": 12,
   "id": "f22969aa",
   "metadata": {},
   "outputs": [],
   "source": [
    "def print_metrics(y, model, x):\n",
    "    y_pred = model.predict(x)\n",
    "    print(f'Accuracy: {accuracy_score(y, y_pred)}')\n",
    "    print(f'Precision: {precision_score(y, y_pred)}')\n",
    "    print(f'Recall: {recall_score(y, y_pred)}')\n",
    "    print(f'F1: {f1_score(y, y_pred)}')"
   ]
  },
  {
   "cell_type": "code",
   "execution_count": 13,
   "id": "3e6353a1",
   "metadata": {},
   "outputs": [
    {
     "name": "stdout",
     "output_type": "stream",
     "text": [
      "Accuracy: 0.8515625\n",
      "Precision: 0.8502495840266223\n",
      "Recall: 0.8631756756756757\n",
      "F1: 0.8566638725901091\n"
     ]
    }
   ],
   "source": [
    "print_metrics(y_test, model, x_test)"
   ]
  },
  {
   "cell_type": "code",
   "execution_count": 14,
   "id": "513a8caf",
   "metadata": {},
   "outputs": [
    {
     "name": "stdout",
     "output_type": "stream",
     "text": [
      "Accuracy: 0.9591836734693877\n",
      "Precision: 0.963355408388521\n",
      "Recall: 0.9540883253170092\n",
      "F1: 0.9586994727592266\n"
     ]
    }
   ],
   "source": [
    "print_metrics(y_train, model, x_train)"
   ]
  },
  {
   "cell_type": "markdown",
   "id": "e7345432",
   "metadata": {},
   "source": [
    "На тестовой выборке метрика F1 получилась 0.856, а на тренировочной 0.958<br>\n",
    "Чтобы увеличить F1 на тестовой выборке, пробую подобрать параметры для модели"
   ]
  },
  {
   "cell_type": "code",
   "execution_count": 15,
   "id": "a48713f9",
   "metadata": {},
   "outputs": [],
   "source": [
    "clf = GridSearchCV(estimator=model,\n",
    "                                 param_grid={'vectorizer__ngram_range':[(1, 1), (1, 2), (1, 3), (1, 4)],\n",
    "                                             'model__C': [0.001, 0.01, 0.1, 1, 10]},\n",
    "                                 scoring='f1',\n",
    "                                 cv=5,\n",
    "                                 verbose=4,\n",
    "                                 n_jobs=-1)\n"
   ]
  },
  {
   "cell_type": "code",
   "execution_count": 16,
   "id": "5e1485fa",
   "metadata": {},
   "outputs": [
    {
     "name": "stdout",
     "output_type": "stream",
     "text": [
      "Fitting 5 folds for each of 20 candidates, totalling 100 fits\n"
     ]
    },
    {
     "data": {
      "text/plain": [
       "GridSearchCV(cv=5,\n",
       "             estimator=Pipeline(steps=[('vectorizer',\n",
       "                                        TfidfVectorizer(tokenizer=<function <lambda> at 0x00000276861E7B80>)),\n",
       "                                       ('model', LogisticRegression())]),\n",
       "             n_jobs=-1,\n",
       "             param_grid={'model__C': [0.001, 0.01, 0.1, 1, 10],\n",
       "                         'vectorizer__ngram_range': [(1, 1), (1, 2), (1, 3),\n",
       "                                                     (1, 4)]},\n",
       "             scoring='f1', verbose=4)"
      ]
     },
     "execution_count": 16,
     "metadata": {},
     "output_type": "execute_result"
    }
   ],
   "source": [
    "clf.fit(x_train, y_train)"
   ]
  },
  {
   "cell_type": "markdown",
   "id": "b248d468",
   "metadata": {},
   "source": [
    "Сохранение модели с лушими параметрами"
   ]
  },
  {
   "cell_type": "code",
   "execution_count": 17,
   "id": "a539eb82",
   "metadata": {},
   "outputs": [
    {
     "data": {
      "text/plain": [
       "Pipeline(steps=[('vectorizer',\n",
       "                 TfidfVectorizer(ngram_range=(1, 2),\n",
       "                                 tokenizer=<function <lambda> at 0x00000276861E7B80>)),\n",
       "                ('model', LogisticRegression(C=10))])"
      ]
     },
     "execution_count": 17,
     "metadata": {},
     "output_type": "execute_result"
    }
   ],
   "source": [
    "best_clf = clf.best_estimator_\n",
    "best_clf"
   ]
  },
  {
   "cell_type": "markdown",
   "id": "3efdb2fc",
   "metadata": {},
   "source": [
    "Метрики на тестовой и на тренировочной выборках"
   ]
  },
  {
   "cell_type": "code",
   "execution_count": 18,
   "id": "19f21878",
   "metadata": {},
   "outputs": [
    {
     "name": "stdout",
     "output_type": "stream",
     "text": [
      "Accuracy: 0.8645833333333334\n",
      "Precision: 0.8516129032258064\n",
      "Recall: 0.8918918918918919\n",
      "F1: 0.8712871287128713\n"
     ]
    }
   ],
   "source": [
    "print_metrics(y_test, best_clf, x_test)"
   ]
  },
  {
   "cell_type": "markdown",
   "id": "dcd611ef",
   "metadata": {},
   "source": [
    "На тестовой выборке удалось увеличить метрику F1 до 0.87"
   ]
  },
  {
   "cell_type": "code",
   "execution_count": 19,
   "id": "d1e973e2",
   "metadata": {},
   "outputs": [
    {
     "name": "stdout",
     "output_type": "stream",
     "text": [
      "Accuracy: 1.0\n",
      "Precision: 1.0\n",
      "Recall: 1.0\n",
      "F1: 1.0\n"
     ]
    }
   ],
   "source": [
    "print_metrics(y_train, best_clf, x_train)"
   ]
  },
  {
   "cell_type": "code",
   "execution_count": 20,
   "id": "9122e3a5",
   "metadata": {},
   "outputs": [
    {
     "data": {
      "image/png": "[encoded data removed]",
      "text/plain": [
       "<Figure size 432x288 with 2 Axes>"
      ]
     },
     "metadata": {
      "needs_background": "light"
     },
     "output_type": "display_data"
    }
   ],
   "source": [
    "plot_confusion_matrix(best_clf, x_train, y_train)  \n",
    "plt.show()"
   ]
  },
  {
   "cell_type": "markdown",
   "id": "74f646f7",
   "metadata": {},
   "source": [
    "Но на тренировочной выборке все метрики получились 1.0, а значит, модель переобучилась и запомнила все ответы <br>\n",
    "Пробую изменить параметры"
   ]
  },
  {
   "cell_type": "code",
   "execution_count": 21,
   "id": "3f0669a2",
   "metadata": {},
   "outputs": [
    {
     "data": {
      "text/plain": [
       "Pipeline(steps=[('vectorizer',\n",
       "                 TfidfVectorizer(ngram_range=(1, 4),\n",
       "                                 tokenizer=<function <lambda> at 0x0000027686E5D790>)),\n",
       "                ('model', LogisticRegression())])"
      ]
     },
     "execution_count": 21,
     "metadata": {},
     "output_type": "execute_result"
    }
   ],
   "source": [
    "model0 = model1 = Pipeline([\n",
    "    ('vectorizer', TfidfVectorizer(tokenizer=lambda x: preprocessing.preprocessing_text(x), ngram_range=(1,1))),\n",
    "    ('model', LogisticRegression())\n",
    "])\n",
    "model1 = Pipeline([\n",
    "    ('vectorizer', TfidfVectorizer(tokenizer=lambda x: preprocessing.preprocessing_text(x), ngram_range=(1,2))),\n",
    "    ('model', LogisticRegression())\n",
    "])\n",
    "\n",
    "model2 = Pipeline([\n",
    "    ('vectorizer', TfidfVectorizer(tokenizer=lambda x: preprocessing.preprocessing_text(x), ngram_range=(1,3))),\n",
    "    ('model', LogisticRegression())\n",
    "])\n",
    "\n",
    "model3 = Pipeline([\n",
    "    ('vectorizer', TfidfVectorizer(tokenizer=lambda x: preprocessing.preprocessing_text(x), ngram_range=(1,4))),\n",
    "    ('model', LogisticRegression())\n",
    "])\n",
    "\n",
    "model0.fit(x_train, y_train)\n",
    "model1.fit(x_train, y_train)\n",
    "model2.fit(x_train, y_train)\n",
    "model3.fit(x_train, y_train)"
   ]
  },
  {
   "cell_type": "code",
   "execution_count": 22,
   "id": "ca046e6d",
   "metadata": {},
   "outputs": [
    {
     "name": "stdout",
     "output_type": "stream",
     "text": [
      "MSE: 0.04081632653061224\n",
      "F1: 0.9586994727592266\n",
      "MSE: 0.011723838471558836\n",
      "F1: 0.9881734559789751\n",
      "MSE: 0.005644811115935736\n",
      "F1: 0.994305738063951\n",
      "MSE: 0.00303951367781155\n",
      "F1: 0.9969365426695843\n"
     ]
    }
   ],
   "source": [
    "for mdl in [model0, model1, model2, model3]:\n",
    "    y_pred = mdl.predict(x_train)\n",
    "    print(f'MSE: {mean_squared_error(y_train, y_pred)}')\n",
    "    print(f'F1: {f1_score(y_train, y_pred)}')"
   ]
  },
  {
   "cell_type": "code",
   "execution_count": 23,
   "id": "2f5bec84",
   "metadata": {},
   "outputs": [
    {
     "name": "stdout",
     "output_type": "stream",
     "text": [
      "MSE: 0.1484375\n",
      "F1: 0.8566638725901091\n",
      "MSE: 0.15104166666666666\n",
      "F1: 0.8559602649006623\n",
      "MSE: 0.15885416666666666\n",
      "F1: 0.8493827160493826\n",
      "MSE: 0.16145833333333334\n",
      "F1: 0.8475409836065574\n"
     ]
    }
   ],
   "source": [
    "for mdl in [model0, model1, model2, model3]:\n",
    "    y_pred = mdl.predict(x_test)\n",
    "    print(f'MSE: {mean_squared_error(y_test, y_pred)}')\n",
    "    print(f'F1: {f1_score(y_test, y_pred)}')"
   ]
  },
  {
   "cell_type": "markdown",
   "id": "bb7e36b9",
   "metadata": {},
   "source": [
    "Лучше всех сработала model0 со стандартными параметрами <br>"
   ]
  },
  {
   "cell_type": "code",
   "execution_count": 24,
   "id": "ca9db94a",
   "metadata": {},
   "outputs": [],
   "source": [
    "prec, rec, thresholds = precision_recall_curve(y_true=y_test, probas_pred=model0.predict_proba(x_test)[:,1])"
   ]
  },
  {
   "cell_type": "code",
   "execution_count": 25,
   "id": "e31dcaf5",
   "metadata": {},
   "outputs": [
    {
     "data": {
      "text/plain": [
       "<sklearn.metrics._plot.precision_recall_curve.PrecisionRecallDisplay at 0x27685cf6f70>"
      ]
     },
     "execution_count": 25,
     "metadata": {},
     "output_type": "execute_result"
    },
    {
     "data": {
      "image/png": "[encoded data removed]",
      "text/plain": [
       "<Figure size 432x288 with 1 Axes>"
      ]
     },
     "metadata": {
      "needs_background": "light"
     },
     "output_type": "display_data"
    }
   ],
   "source": [
    "plot_precision_recall_curve(estimator=model0, X=x_test, y=y_test)"
   ]
  },
  {
   "cell_type": "code",
   "execution_count": 26,
   "id": "03020362",
   "metadata": {},
   "outputs": [
    {
     "data": {
      "image/png": "[encoded data removed]",
      "text/plain": [
       "<Figure size 432x288 with 2 Axes>"
      ]
     },
     "metadata": {
      "needs_background": "light"
     },
     "output_type": "display_data"
    }
   ],
   "source": [
    "plot_confusion_matrix(model0, x_test, y_test)  \n",
    "plt.show()"
   ]
  },
  {
   "cell_type": "markdown",
   "id": "6860c61f",
   "metadata": {},
   "source": [
    "Применение модели для классификации тестового датасета и сохранение результатов"
   ]
  },
  {
   "cell_type": "code",
   "execution_count": 34,
   "id": "0ade2a4d",
   "metadata": {},
   "outputs": [],
   "source": [
    "test_data = pd.read_csv('dataset/test.tsv', delimiter='\\t')"
   ]
  },
  {
   "cell_type": "code",
   "execution_count": 35,
   "id": "883c9e68",
   "metadata": {},
   "outputs": [
    {
     "data": {
      "text/html": [
       "<div>\n",
       "<style scoped>\n",
       "    .dataframe tbody tr th:only-of-type {\n",
       "        vertical-align: middle;\n",
       "    }\n",
       "\n",
       "    .dataframe tbody tr th {\n",
       "        vertical-align: top;\n",
       "    }\n",
       "\n",
       "    .dataframe thead th {\n",
       "        text-align: right;\n",
       "    }\n",
       "</style>\n",
       "<table border=\"1\" class=\"dataframe\">\n",
       "  <thead>\n",
       "    <tr style=\"text-align: right;\">\n",
       "      <th></th>\n",
       "      <th>title</th>\n",
       "      <th>is_fake</th>\n",
       "    </tr>\n",
       "  </thead>\n",
       "  <tbody>\n",
       "    <tr>\n",
       "      <th>0</th>\n",
       "      <td>Роскомнадзор представил реестр сочетаний цвето...</td>\n",
       "      <td>0</td>\n",
       "    </tr>\n",
       "    <tr>\n",
       "      <th>1</th>\n",
       "      <td>Ночью под Минском на президентской горе Белара...</td>\n",
       "      <td>0</td>\n",
       "    </tr>\n",
       "    <tr>\n",
       "      <th>2</th>\n",
       "      <td>Бывший спичрайтер Юрия Лозы рассказал о трудно...</td>\n",
       "      <td>0</td>\n",
       "    </tr>\n",
       "    <tr>\n",
       "      <th>3</th>\n",
       "      <td>Сельская церковь, собравшая рекордно низкое ко...</td>\n",
       "      <td>0</td>\n",
       "    </tr>\n",
       "    <tr>\n",
       "      <th>4</th>\n",
       "      <td>Акции Google рухнули после объявления о переза...</td>\n",
       "      <td>0</td>\n",
       "    </tr>\n",
       "  </tbody>\n",
       "</table>\n",
       "</div>"
      ],
      "text/plain": [
       "                                               title  is_fake\n",
       "0  Роскомнадзор представил реестр сочетаний цвето...        0\n",
       "1  Ночью под Минском на президентской горе Белара...        0\n",
       "2  Бывший спичрайтер Юрия Лозы рассказал о трудно...        0\n",
       "3  Сельская церковь, собравшая рекордно низкое ко...        0\n",
       "4  Акции Google рухнули после объявления о переза...        0"
      ]
     },
     "execution_count": 35,
     "metadata": {},
     "output_type": "execute_result"
    }
   ],
   "source": [
    "test_data.head()"
   ]
  },
  {
   "cell_type": "code",
   "execution_count": 36,
   "id": "467c7ecf",
   "metadata": {},
   "outputs": [],
   "source": [
    "predicted = model0.predict(test_data['title'])"
   ]
  },
  {
   "cell_type": "code",
   "execution_count": 37,
   "id": "70bc932c",
   "metadata": {},
   "outputs": [],
   "source": [
    "test_data['is_fake'] = predicted"
   ]
  },
  {
   "cell_type": "code",
   "execution_count": 38,
   "id": "f3898b34",
   "metadata": {},
   "outputs": [
    {
     "data": {
      "text/html": [
       "<div>\n",
       "<style scoped>\n",
       "    .dataframe tbody tr th:only-of-type {\n",
       "        vertical-align: middle;\n",
       "    }\n",
       "\n",
       "    .dataframe tbody tr th {\n",
       "        vertical-align: top;\n",
       "    }\n",
       "\n",
       "    .dataframe thead th {\n",
       "        text-align: right;\n",
       "    }\n",
       "</style>\n",
       "<table border=\"1\" class=\"dataframe\">\n",
       "  <thead>\n",
       "    <tr style=\"text-align: right;\">\n",
       "      <th></th>\n",
       "      <th>title</th>\n",
       "      <th>is_fake</th>\n",
       "    </tr>\n",
       "  </thead>\n",
       "  <tbody>\n",
       "    <tr>\n",
       "      <th>0</th>\n",
       "      <td>Роскомнадзор представил реестр сочетаний цвето...</td>\n",
       "      <td>1</td>\n",
       "    </tr>\n",
       "    <tr>\n",
       "      <th>1</th>\n",
       "      <td>Ночью под Минском на президентской горе Белара...</td>\n",
       "      <td>1</td>\n",
       "    </tr>\n",
       "    <tr>\n",
       "      <th>2</th>\n",
       "      <td>Бывший спичрайтер Юрия Лозы рассказал о трудно...</td>\n",
       "      <td>1</td>\n",
       "    </tr>\n",
       "    <tr>\n",
       "      <th>3</th>\n",
       "      <td>Сельская церковь, собравшая рекордно низкое ко...</td>\n",
       "      <td>0</td>\n",
       "    </tr>\n",
       "    <tr>\n",
       "      <th>4</th>\n",
       "      <td>Акции Google рухнули после объявления о переза...</td>\n",
       "      <td>0</td>\n",
       "    </tr>\n",
       "  </tbody>\n",
       "</table>\n",
       "</div>"
      ],
      "text/plain": [
       "                                               title  is_fake\n",
       "0  Роскомнадзор представил реестр сочетаний цвето...        1\n",
       "1  Ночью под Минском на президентской горе Белара...        1\n",
       "2  Бывший спичрайтер Юрия Лозы рассказал о трудно...        1\n",
       "3  Сельская церковь, собравшая рекордно низкое ко...        0\n",
       "4  Акции Google рухнули после объявления о переза...        0"
      ]
     },
     "execution_count": 38,
     "metadata": {},
     "output_type": "execute_result"
    }
   ],
   "source": [
    "test_data.head()"
   ]
  },
  {
   "cell_type": "code",
   "execution_count": 39,
   "id": "a8bb7692",
   "metadata": {},
   "outputs": [
    {
     "name": "stdout",
     "output_type": "stream",
     "text": [
      "1    504\n",
      "0    496\n",
      "Name: is_fake, dtype: int64\n",
      "Всего тайтлов: 1000\n"
     ]
    },
    {
     "data": {
      "image/png": "[encoded data removed]",
      "text/plain": [
       "<Figure size 432x288 with 1 Axes>"
      ]
     },
     "metadata": {
      "needs_background": "light"
     },
     "output_type": "display_data"
    }
   ],
   "source": [
    "test_data['is_fake'].value_counts().plot(kind = 'bar')\n",
    "print(test_data['is_fake'].value_counts())\n",
    "count = test_data['is_fake'].count()\n",
    "print(f'Всего тайтлов: {count}')"
   ]
  },
  {
   "cell_type": "code",
   "execution_count": 43,
   "id": "71ed9bf6",
   "metadata": {},
   "outputs": [],
   "source": [
    "test_data.to_csv('predictions.tsv', sep='\\t', index=False)"
   ]
  },
  {
   "cell_type": "code",
   "execution_count": null,
   "id": "388b88f3",
   "metadata": {},
   "outputs": [],
   "source": []
  }
 ],
 "metadata": {
  "kernelspec": {
   "display_name": "Python 3",
   "language": "python",
   "name": "python3"
  },
  "language_info": {
   "codemirror_mode": {
    "name": "ipython",
    "version": 3
   },
   "file_extension": ".py",
   "mimetype": "text/x-python",
   "name": "python",
   "nbconvert_exporter": "python",
   "pygments_lexer": "ipython3",
   "version": "3.8.8"
  }
 },
 "nbformat": 4,
 "nbformat_minor": 5
}
